{
 "cells": [
  {
   "cell_type": "markdown",
   "id": "9a3fdfd7",
   "metadata": {},
   "source": [
    "This is a test made by Leticia Campos Valente, currently Data Scientist I at Mundiale using a vehicles dataset to target vehicle 'conditions', in order to register the time of every 'normal' process in a routine of a Machine Learning professional to test physical GPU performance vs cloud computer performance. \\\n",
    "\\\n",
    "The archive have 1,35 GB of size, 26 columns and 426880 lines"
   ]
  },
  {
   "cell_type": "markdown",
   "id": "33ca6ed1",
   "metadata": {},
   "source": [
    "# 1. Basic settings"
   ]
  },
  {
   "cell_type": "markdown",
   "id": "ff8d811e",
   "metadata": {},
   "source": [
    "## 1.1 Import"
   ]
  },
  {
   "cell_type": "code",
   "execution_count": 1,
   "id": "3294005a",
   "metadata": {},
   "outputs": [],
   "source": [
    "import pandas as pd\n",
    "import matplotlib.pyplot as plt\n",
    "import time\n",
    "import numpy as np\n",
    "from sklearn.neighbors import KNeighborsClassifier\n",
    "from sklearn.model_selection import train_test_split\n",
    "from sklearn.metrics import accuracy_score,recall_score,precision_score,f1_score, confusion_matrix\n",
    "from sklearn.model_selection import GridSearchCV, StratifiedKFold\n",
    "from dask.diagnostics import ProgressBar"
   ]
  },
  {
   "cell_type": "markdown",
   "id": "d865c6bf",
   "metadata": {},
   "source": [
    "## 1.2 Pandas df display settings"
   ]
  },
  {
   "cell_type": "code",
   "execution_count": 2,
   "id": "1ce23609",
   "metadata": {},
   "outputs": [],
   "source": [
    "pd.set_option('display.max_columns', None)\n",
    "pd.set_option(\"display.max_rows\", None)"
   ]
  },
  {
   "cell_type": "markdown",
   "id": "fd24eaa3",
   "metadata": {},
   "source": [
    "## 1.2 Matplotlib  display settings"
   ]
  },
  {
   "cell_type": "code",
   "execution_count": 3,
   "id": "e95789bb",
   "metadata": {},
   "outputs": [],
   "source": [
    "%matplotlib inline\n",
    "\n",
    "plt.close('all')"
   ]
  },
  {
   "cell_type": "markdown",
   "id": "4548e42c",
   "metadata": {},
   "source": [
    "## 1.3 First time register"
   ]
  },
  {
   "cell_type": "code",
   "execution_count": 4,
   "id": "7a478c4c",
   "metadata": {},
   "outputs": [],
   "source": [
    "startnb = time.time()"
   ]
  },
  {
   "cell_type": "markdown",
   "id": "98ad1f06",
   "metadata": {},
   "source": [
    "# 2. Pre-processing"
   ]
  },
  {
   "cell_type": "markdown",
   "id": "48ffea21",
   "metadata": {},
   "source": [
    "## 2.1 Dataset reading"
   ]
  },
  {
   "cell_type": "code",
   "execution_count": 5,
   "id": "47b12093",
   "metadata": {},
   "outputs": [],
   "source": [
    "startcsvread = time.time()\n",
    "df = pd.read_csv('dataset/vehicles.csv')\n",
    "endcsvread = time.time()-startcsvread"
   ]
  },
  {
   "cell_type": "code",
   "execution_count": 6,
   "id": "cfdac8a4",
   "metadata": {},
   "outputs": [
    {
     "data": {
      "text/html": [
       "<div>\n",
       "<style scoped>\n",
       "    .dataframe tbody tr th:only-of-type {\n",
       "        vertical-align: middle;\n",
       "    }\n",
       "\n",
       "    .dataframe tbody tr th {\n",
       "        vertical-align: top;\n",
       "    }\n",
       "\n",
       "    .dataframe thead th {\n",
       "        text-align: right;\n",
       "    }\n",
       "</style>\n",
       "<table border=\"1\" class=\"dataframe\">\n",
       "  <thead>\n",
       "    <tr style=\"text-align: right;\">\n",
       "      <th></th>\n",
       "      <th>id</th>\n",
       "      <th>url</th>\n",
       "      <th>region</th>\n",
       "      <th>region_url</th>\n",
       "      <th>price</th>\n",
       "      <th>year</th>\n",
       "      <th>manufacturer</th>\n",
       "      <th>model</th>\n",
       "      <th>condition</th>\n",
       "      <th>cylinders</th>\n",
       "      <th>fuel</th>\n",
       "      <th>odometer</th>\n",
       "      <th>title_status</th>\n",
       "      <th>transmission</th>\n",
       "      <th>VIN</th>\n",
       "      <th>drive</th>\n",
       "      <th>size</th>\n",
       "      <th>type</th>\n",
       "      <th>paint_color</th>\n",
       "      <th>image_url</th>\n",
       "      <th>description</th>\n",
       "      <th>county</th>\n",
       "      <th>state</th>\n",
       "      <th>lat</th>\n",
       "      <th>long</th>\n",
       "      <th>posting_date</th>\n",
       "    </tr>\n",
       "  </thead>\n",
       "  <tbody>\n",
       "    <tr>\n",
       "      <th>0</th>\n",
       "      <td>7222695916</td>\n",
       "      <td>https://prescott.craigslist.org/cto/d/prescott...</td>\n",
       "      <td>prescott</td>\n",
       "      <td>https://prescott.craigslist.org</td>\n",
       "      <td>6000</td>\n",
       "      <td>NaN</td>\n",
       "      <td>NaN</td>\n",
       "      <td>NaN</td>\n",
       "      <td>NaN</td>\n",
       "      <td>NaN</td>\n",
       "      <td>NaN</td>\n",
       "      <td>NaN</td>\n",
       "      <td>NaN</td>\n",
       "      <td>NaN</td>\n",
       "      <td>NaN</td>\n",
       "      <td>NaN</td>\n",
       "      <td>NaN</td>\n",
       "      <td>NaN</td>\n",
       "      <td>NaN</td>\n",
       "      <td>NaN</td>\n",
       "      <td>NaN</td>\n",
       "      <td>NaN</td>\n",
       "      <td>az</td>\n",
       "      <td>NaN</td>\n",
       "      <td>NaN</td>\n",
       "      <td>NaN</td>\n",
       "    </tr>\n",
       "    <tr>\n",
       "      <th>1</th>\n",
       "      <td>7218891961</td>\n",
       "      <td>https://fayar.craigslist.org/ctd/d/bentonville...</td>\n",
       "      <td>fayetteville</td>\n",
       "      <td>https://fayar.craigslist.org</td>\n",
       "      <td>11900</td>\n",
       "      <td>NaN</td>\n",
       "      <td>NaN</td>\n",
       "      <td>NaN</td>\n",
       "      <td>NaN</td>\n",
       "      <td>NaN</td>\n",
       "      <td>NaN</td>\n",
       "      <td>NaN</td>\n",
       "      <td>NaN</td>\n",
       "      <td>NaN</td>\n",
       "      <td>NaN</td>\n",
       "      <td>NaN</td>\n",
       "      <td>NaN</td>\n",
       "      <td>NaN</td>\n",
       "      <td>NaN</td>\n",
       "      <td>NaN</td>\n",
       "      <td>NaN</td>\n",
       "      <td>NaN</td>\n",
       "      <td>ar</td>\n",
       "      <td>NaN</td>\n",
       "      <td>NaN</td>\n",
       "      <td>NaN</td>\n",
       "    </tr>\n",
       "    <tr>\n",
       "      <th>2</th>\n",
       "      <td>7221797935</td>\n",
       "      <td>https://keys.craigslist.org/cto/d/summerland-k...</td>\n",
       "      <td>florida keys</td>\n",
       "      <td>https://keys.craigslist.org</td>\n",
       "      <td>21000</td>\n",
       "      <td>NaN</td>\n",
       "      <td>NaN</td>\n",
       "      <td>NaN</td>\n",
       "      <td>NaN</td>\n",
       "      <td>NaN</td>\n",
       "      <td>NaN</td>\n",
       "      <td>NaN</td>\n",
       "      <td>NaN</td>\n",
       "      <td>NaN</td>\n",
       "      <td>NaN</td>\n",
       "      <td>NaN</td>\n",
       "      <td>NaN</td>\n",
       "      <td>NaN</td>\n",
       "      <td>NaN</td>\n",
       "      <td>NaN</td>\n",
       "      <td>NaN</td>\n",
       "      <td>NaN</td>\n",
       "      <td>fl</td>\n",
       "      <td>NaN</td>\n",
       "      <td>NaN</td>\n",
       "      <td>NaN</td>\n",
       "    </tr>\n",
       "    <tr>\n",
       "      <th>3</th>\n",
       "      <td>7222270760</td>\n",
       "      <td>https://worcester.craigslist.org/cto/d/west-br...</td>\n",
       "      <td>worcester / central MA</td>\n",
       "      <td>https://worcester.craigslist.org</td>\n",
       "      <td>1500</td>\n",
       "      <td>NaN</td>\n",
       "      <td>NaN</td>\n",
       "      <td>NaN</td>\n",
       "      <td>NaN</td>\n",
       "      <td>NaN</td>\n",
       "      <td>NaN</td>\n",
       "      <td>NaN</td>\n",
       "      <td>NaN</td>\n",
       "      <td>NaN</td>\n",
       "      <td>NaN</td>\n",
       "      <td>NaN</td>\n",
       "      <td>NaN</td>\n",
       "      <td>NaN</td>\n",
       "      <td>NaN</td>\n",
       "      <td>NaN</td>\n",
       "      <td>NaN</td>\n",
       "      <td>NaN</td>\n",
       "      <td>ma</td>\n",
       "      <td>NaN</td>\n",
       "      <td>NaN</td>\n",
       "      <td>NaN</td>\n",
       "    </tr>\n",
       "    <tr>\n",
       "      <th>4</th>\n",
       "      <td>7210384030</td>\n",
       "      <td>https://greensboro.craigslist.org/cto/d/trinit...</td>\n",
       "      <td>greensboro</td>\n",
       "      <td>https://greensboro.craigslist.org</td>\n",
       "      <td>4900</td>\n",
       "      <td>NaN</td>\n",
       "      <td>NaN</td>\n",
       "      <td>NaN</td>\n",
       "      <td>NaN</td>\n",
       "      <td>NaN</td>\n",
       "      <td>NaN</td>\n",
       "      <td>NaN</td>\n",
       "      <td>NaN</td>\n",
       "      <td>NaN</td>\n",
       "      <td>NaN</td>\n",
       "      <td>NaN</td>\n",
       "      <td>NaN</td>\n",
       "      <td>NaN</td>\n",
       "      <td>NaN</td>\n",
       "      <td>NaN</td>\n",
       "      <td>NaN</td>\n",
       "      <td>NaN</td>\n",
       "      <td>nc</td>\n",
       "      <td>NaN</td>\n",
       "      <td>NaN</td>\n",
       "      <td>NaN</td>\n",
       "    </tr>\n",
       "  </tbody>\n",
       "</table>\n",
       "</div>"
      ],
      "text/plain": [
       "           id                                                url  \\\n",
       "0  7222695916  https://prescott.craigslist.org/cto/d/prescott...   \n",
       "1  7218891961  https://fayar.craigslist.org/ctd/d/bentonville...   \n",
       "2  7221797935  https://keys.craigslist.org/cto/d/summerland-k...   \n",
       "3  7222270760  https://worcester.craigslist.org/cto/d/west-br...   \n",
       "4  7210384030  https://greensboro.craigslist.org/cto/d/trinit...   \n",
       "\n",
       "                   region                         region_url  price  year  \\\n",
       "0                prescott    https://prescott.craigslist.org   6000   NaN   \n",
       "1            fayetteville       https://fayar.craigslist.org  11900   NaN   \n",
       "2            florida keys        https://keys.craigslist.org  21000   NaN   \n",
       "3  worcester / central MA   https://worcester.craigslist.org   1500   NaN   \n",
       "4              greensboro  https://greensboro.craigslist.org   4900   NaN   \n",
       "\n",
       "  manufacturer model condition cylinders fuel  odometer title_status  \\\n",
       "0          NaN   NaN       NaN       NaN  NaN       NaN          NaN   \n",
       "1          NaN   NaN       NaN       NaN  NaN       NaN          NaN   \n",
       "2          NaN   NaN       NaN       NaN  NaN       NaN          NaN   \n",
       "3          NaN   NaN       NaN       NaN  NaN       NaN          NaN   \n",
       "4          NaN   NaN       NaN       NaN  NaN       NaN          NaN   \n",
       "\n",
       "  transmission  VIN drive size type paint_color image_url description  county  \\\n",
       "0          NaN  NaN   NaN  NaN  NaN         NaN       NaN         NaN     NaN   \n",
       "1          NaN  NaN   NaN  NaN  NaN         NaN       NaN         NaN     NaN   \n",
       "2          NaN  NaN   NaN  NaN  NaN         NaN       NaN         NaN     NaN   \n",
       "3          NaN  NaN   NaN  NaN  NaN         NaN       NaN         NaN     NaN   \n",
       "4          NaN  NaN   NaN  NaN  NaN         NaN       NaN         NaN     NaN   \n",
       "\n",
       "  state  lat  long posting_date  \n",
       "0    az  NaN   NaN          NaN  \n",
       "1    ar  NaN   NaN          NaN  \n",
       "2    fl  NaN   NaN          NaN  \n",
       "3    ma  NaN   NaN          NaN  \n",
       "4    nc  NaN   NaN          NaN  "
      ]
     },
     "execution_count": 6,
     "metadata": {},
     "output_type": "execute_result"
    }
   ],
   "source": [
    "df.head()"
   ]
  },
  {
   "cell_type": "code",
   "execution_count": 7,
   "id": "4e297b66",
   "metadata": {},
   "outputs": [
    {
     "data": {
      "text/html": [
       "<div>\n",
       "<style scoped>\n",
       "    .dataframe tbody tr th:only-of-type {\n",
       "        vertical-align: middle;\n",
       "    }\n",
       "\n",
       "    .dataframe tbody tr th {\n",
       "        vertical-align: top;\n",
       "    }\n",
       "\n",
       "    .dataframe thead th {\n",
       "        text-align: right;\n",
       "    }\n",
       "</style>\n",
       "<table border=\"1\" class=\"dataframe\">\n",
       "  <thead>\n",
       "    <tr style=\"text-align: right;\">\n",
       "      <th></th>\n",
       "      <th>id</th>\n",
       "      <th>url</th>\n",
       "      <th>region</th>\n",
       "      <th>region_url</th>\n",
       "      <th>price</th>\n",
       "      <th>year</th>\n",
       "      <th>manufacturer</th>\n",
       "      <th>model</th>\n",
       "      <th>condition</th>\n",
       "      <th>cylinders</th>\n",
       "      <th>fuel</th>\n",
       "      <th>odometer</th>\n",
       "      <th>title_status</th>\n",
       "      <th>transmission</th>\n",
       "      <th>VIN</th>\n",
       "      <th>drive</th>\n",
       "      <th>size</th>\n",
       "      <th>type</th>\n",
       "      <th>paint_color</th>\n",
       "      <th>image_url</th>\n",
       "      <th>description</th>\n",
       "      <th>county</th>\n",
       "      <th>state</th>\n",
       "      <th>lat</th>\n",
       "      <th>long</th>\n",
       "      <th>posting_date</th>\n",
       "    </tr>\n",
       "  </thead>\n",
       "  <tbody>\n",
       "    <tr>\n",
       "      <th>100</th>\n",
       "      <td>7309192232</td>\n",
       "      <td>https://auburn.craigslist.org/ctd/d/auburn-uni...</td>\n",
       "      <td>auburn</td>\n",
       "      <td>https://auburn.craigslist.org</td>\n",
       "      <td>16590</td>\n",
       "      <td>2015.0</td>\n",
       "      <td>hyundai</td>\n",
       "      <td>sonata sport sedan 4d</td>\n",
       "      <td>good</td>\n",
       "      <td>NaN</td>\n",
       "      <td>gas</td>\n",
       "      <td>26655.0</td>\n",
       "      <td>clean</td>\n",
       "      <td>other</td>\n",
       "      <td>5NPE34AF8FH021634</td>\n",
       "      <td>fwd</td>\n",
       "      <td>NaN</td>\n",
       "      <td>sedan</td>\n",
       "      <td>white</td>\n",
       "      <td>https://images.craigslist.org/00d0d_65wNCfzhbw...</td>\n",
       "      <td>Carvana is the safer way to buy a car During t...</td>\n",
       "      <td>NaN</td>\n",
       "      <td>al</td>\n",
       "      <td>32.59</td>\n",
       "      <td>-85.48</td>\n",
       "      <td>2021-04-19T08:51:14-0500</td>\n",
       "    </tr>\n",
       "  </tbody>\n",
       "</table>\n",
       "</div>"
      ],
      "text/plain": [
       "             id                                                url  region  \\\n",
       "100  7309192232  https://auburn.craigslist.org/ctd/d/auburn-uni...  auburn   \n",
       "\n",
       "                        region_url  price    year manufacturer  \\\n",
       "100  https://auburn.craigslist.org  16590  2015.0      hyundai   \n",
       "\n",
       "                     model condition cylinders fuel  odometer title_status  \\\n",
       "100  sonata sport sedan 4d      good       NaN  gas   26655.0        clean   \n",
       "\n",
       "    transmission                VIN drive size   type paint_color  \\\n",
       "100        other  5NPE34AF8FH021634   fwd  NaN  sedan       white   \n",
       "\n",
       "                                             image_url  \\\n",
       "100  https://images.craigslist.org/00d0d_65wNCfzhbw...   \n",
       "\n",
       "                                           description  county state    lat  \\\n",
       "100  Carvana is the safer way to buy a car During t...     NaN    al  32.59   \n",
       "\n",
       "      long              posting_date  \n",
       "100 -85.48  2021-04-19T08:51:14-0500  "
      ]
     },
     "execution_count": 7,
     "metadata": {},
     "output_type": "execute_result"
    }
   ],
   "source": [
    "df.iloc[[100]] # Just to check how is a non empty line"
   ]
  },
  {
   "cell_type": "code",
   "execution_count": 8,
   "id": "0e53cafa",
   "metadata": {},
   "outputs": [
    {
     "data": {
      "text/plain": [
       "(426880, 26)"
      ]
     },
     "execution_count": 8,
     "metadata": {},
     "output_type": "execute_result"
    }
   ],
   "source": [
    "df.shape"
   ]
  },
  {
   "cell_type": "code",
   "execution_count": 9,
   "id": "39e6d2a7",
   "metadata": {},
   "outputs": [
    {
     "name": "stdout",
     "output_type": "stream",
     "text": [
      "The process of the csv reading with 426880 lines and 26 columns took 38.60023331642151 secconds\n"
     ]
    }
   ],
   "source": [
    "print(f'The process of the csv reading with {df.shape[0]} lines and {df.shape[1]} columns took {endcsvread} secconds')"
   ]
  },
  {
   "cell_type": "code",
   "execution_count": 10,
   "id": "11ff7a9f",
   "metadata": {},
   "outputs": [
    {
     "data": {
      "text/plain": [
       "Index(['id', 'url', 'region', 'region_url', 'price', 'year', 'manufacturer',\n",
       "       'model', 'condition', 'cylinders', 'fuel', 'odometer', 'title_status',\n",
       "       'transmission', 'VIN', 'drive', 'size', 'type', 'paint_color',\n",
       "       'image_url', 'description', 'county', 'state', 'lat', 'long',\n",
       "       'posting_date'],\n",
       "      dtype='object')"
      ]
     },
     "execution_count": 10,
     "metadata": {},
     "output_type": "execute_result"
    }
   ],
   "source": [
    "df.columns"
   ]
  },
  {
   "cell_type": "markdown",
   "id": "422f8a0a",
   "metadata": {},
   "source": [
    "## 2.2 ETL"
   ]
  },
  {
   "cell_type": "code",
   "execution_count": 11,
   "id": "d24d5c4a",
   "metadata": {},
   "outputs": [],
   "source": [
    "startetl = time.time()"
   ]
  },
  {
   "cell_type": "markdown",
   "id": "f735894f",
   "metadata": {},
   "source": [
    "### 2.2.1 Selection/Filtering"
   ]
  },
  {
   "cell_type": "markdown",
   "id": "449c61da",
   "metadata": {},
   "source": [
    "We can see that the 'county' column is fully empty, so we will remove it. Id, Url, region_url ,image url, and others below also not needed to predict 'conditions'. The price can be described by it's mechanical features already in dataset."
   ]
  },
  {
   "cell_type": "code",
   "execution_count": 12,
   "id": "13a45cdc",
   "metadata": {},
   "outputs": [],
   "source": [
    "df.drop(columns=['id', 'url', 'region_url', 'VIN', 'image_url' ,'description', 'county','lat', 'long', 'posting_date', 'price', 'paint_color'], inplace=True)"
   ]
  },
  {
   "cell_type": "code",
   "execution_count": 13,
   "id": "4be1d8d0",
   "metadata": {},
   "outputs": [
    {
     "data": {
      "text/plain": [
       "14"
      ]
     },
     "execution_count": 13,
     "metadata": {},
     "output_type": "execute_result"
    }
   ],
   "source": [
    "df.shape[1] # The number of columns after filtering, previous was 26"
   ]
  },
  {
   "cell_type": "code",
   "execution_count": 14,
   "id": "73ee9b72",
   "metadata": {},
   "outputs": [
    {
     "data": {
      "text/html": [
       "<div>\n",
       "<style scoped>\n",
       "    .dataframe tbody tr th:only-of-type {\n",
       "        vertical-align: middle;\n",
       "    }\n",
       "\n",
       "    .dataframe tbody tr th {\n",
       "        vertical-align: top;\n",
       "    }\n",
       "\n",
       "    .dataframe thead th {\n",
       "        text-align: right;\n",
       "    }\n",
       "</style>\n",
       "<table border=\"1\" class=\"dataframe\">\n",
       "  <thead>\n",
       "    <tr style=\"text-align: right;\">\n",
       "      <th></th>\n",
       "      <th>region</th>\n",
       "      <th>year</th>\n",
       "      <th>manufacturer</th>\n",
       "      <th>model</th>\n",
       "      <th>condition</th>\n",
       "      <th>cylinders</th>\n",
       "      <th>fuel</th>\n",
       "      <th>odometer</th>\n",
       "      <th>title_status</th>\n",
       "      <th>transmission</th>\n",
       "      <th>drive</th>\n",
       "      <th>size</th>\n",
       "      <th>type</th>\n",
       "      <th>state</th>\n",
       "    </tr>\n",
       "  </thead>\n",
       "  <tbody>\n",
       "    <tr>\n",
       "      <th>100</th>\n",
       "      <td>auburn</td>\n",
       "      <td>2015.0</td>\n",
       "      <td>hyundai</td>\n",
       "      <td>sonata sport sedan 4d</td>\n",
       "      <td>good</td>\n",
       "      <td>NaN</td>\n",
       "      <td>gas</td>\n",
       "      <td>26655.0</td>\n",
       "      <td>clean</td>\n",
       "      <td>other</td>\n",
       "      <td>fwd</td>\n",
       "      <td>NaN</td>\n",
       "      <td>sedan</td>\n",
       "      <td>al</td>\n",
       "    </tr>\n",
       "  </tbody>\n",
       "</table>\n",
       "</div>"
      ],
      "text/plain": [
       "     region    year manufacturer                  model condition cylinders  \\\n",
       "100  auburn  2015.0      hyundai  sonata sport sedan 4d      good       NaN   \n",
       "\n",
       "    fuel  odometer title_status transmission drive size   type state  \n",
       "100  gas   26655.0        clean        other   fwd  NaN  sedan    al  "
      ]
     },
     "execution_count": 14,
     "metadata": {},
     "output_type": "execute_result"
    }
   ],
   "source": [
    "df.iloc[[100]]"
   ]
  },
  {
   "cell_type": "markdown",
   "id": "1ad171d9",
   "metadata": {},
   "source": [
    "### 2.2.2 Transformation"
   ]
  },
  {
   "cell_type": "markdown",
   "id": "65f17335",
   "metadata": {},
   "source": [
    "An opportunity for transformation was observed in the column 'cylinders', which is to transform it in a numerical type, instead of string as we're talking about numbers of cylinders. "
   ]
  },
  {
   "cell_type": "code",
   "execution_count": 15,
   "id": "192d16d8",
   "metadata": {},
   "outputs": [
    {
     "data": {
      "text/plain": [
       "6 cylinders     94169\n",
       "4 cylinders     77642\n",
       "8 cylinders     72062\n",
       "5 cylinders      1712\n",
       "10 cylinders     1455\n",
       "other            1298\n",
       "3 cylinders       655\n",
       "12 cylinders      209\n",
       "Name: cylinders, dtype: int64"
      ]
     },
     "execution_count": 15,
     "metadata": {},
     "output_type": "execute_result"
    }
   ],
   "source": [
    "df['cylinders'].value_counts()"
   ]
  },
  {
   "cell_type": "markdown",
   "id": "9b614ba8",
   "metadata": {},
   "source": [
    "As it have a pattern, observed above, my solution is:"
   ]
  },
  {
   "cell_type": "code",
   "execution_count": 16,
   "id": "fec3d0db",
   "metadata": {},
   "outputs": [],
   "source": [
    "def cylinders_split(x):\n",
    "    if type(x) == str:\n",
    "        if x != 'other': \n",
    "            return x[0:2] # As the number comes first in the strings observed in value_counts\n",
    "        else:\n",
    "            return np.nan\n",
    "    else:\n",
    "        return x"
   ]
  },
  {
   "cell_type": "code",
   "execution_count": 17,
   "id": "cd065a80",
   "metadata": {},
   "outputs": [],
   "source": [
    "df['cylinders'] = df['cylinders'].apply(cylinders_split)"
   ]
  },
  {
   "cell_type": "code",
   "execution_count": 18,
   "id": "c902c04f",
   "metadata": {},
   "outputs": [
    {
     "data": {
      "text/plain": [
       "6     94169\n",
       "4     77642\n",
       "8     72062\n",
       "5      1712\n",
       "10     1455\n",
       "3       655\n",
       "12      209\n",
       "Name: cylinders, dtype: int64"
      ]
     },
     "execution_count": 18,
     "metadata": {},
     "output_type": "execute_result"
    }
   ],
   "source": [
    "df['cylinders'].value_counts()"
   ]
  },
  {
   "cell_type": "code",
   "execution_count": 19,
   "id": "e2a93a9b",
   "metadata": {},
   "outputs": [],
   "source": [
    "df['cylinders'] = df['cylinders'].astype(np.float16) # For further outlier check"
   ]
  },
  {
   "cell_type": "markdown",
   "id": "b679acc6",
   "metadata": {},
   "source": [
    "### 2.2.3 Imputing(Nulls part)"
   ]
  },
  {
   "cell_type": "markdown",
   "id": "f3cf80a3",
   "metadata": {},
   "source": [
    "#### 2.2.3.1 Identification"
   ]
  },
  {
   "cell_type": "code",
   "execution_count": 20,
   "id": "5820e9bb",
   "metadata": {},
   "outputs": [
    {
     "data": {
      "text/plain": [
       "region               0\n",
       "year              1205\n",
       "manufacturer     17646\n",
       "model             5277\n",
       "condition       174104\n",
       "cylinders       178976\n",
       "fuel              3013\n",
       "odometer          4400\n",
       "title_status      8242\n",
       "transmission      2556\n",
       "drive           130567\n",
       "size            306361\n",
       "type             92858\n",
       "state                0\n",
       "dtype: int64"
      ]
     },
     "execution_count": 20,
     "metadata": {},
     "output_type": "execute_result"
    }
   ],
   "source": [
    "df.isnull().sum()"
   ]
  },
  {
   "cell_type": "markdown",
   "id": "593945cb",
   "metadata": {},
   "source": [
    "#### 2.2.3.2 Treatment"
   ]
  },
  {
   "cell_type": "markdown",
   "id": "9cf8abf5",
   "metadata": {},
   "source": [
    "Starting by droping NaN 'condition' because of it being our target, we have:"
   ]
  },
  {
   "cell_type": "code",
   "execution_count": 21,
   "id": "5f7983f2",
   "metadata": {},
   "outputs": [],
   "source": [
    "df.dropna(subset=['condition'], inplace=True)"
   ]
  },
  {
   "cell_type": "markdown",
   "id": "955f3889",
   "metadata": {},
   "source": [
    "Size can be filled by mode and the type, so:"
   ]
  },
  {
   "cell_type": "code",
   "execution_count": 22,
   "id": "afa1de7a",
   "metadata": {},
   "outputs": [],
   "source": [
    "#First treating type normally by its general mode\n",
    "df['type'].fillna(df['type'].mode(), inplace=True)\n",
    "\n",
    "#As for the rest that fillna haven't reached\n",
    "df['type'].fillna('unknown', inplace=True)\n",
    "\n",
    "\n",
    "#Then the size, looking to car type column to return mode by type\n",
    "mode = lambda x: x.mode() if np.issubdtype(x.dtype, np.number) else x.mode().iloc[0]\n",
    "df['size'].fillna(df.groupby('type')['size'].transform(mode), inplace = True)\n"
   ]
  },
  {
   "cell_type": "markdown",
   "id": "89cb8e57",
   "metadata": {},
   "source": [
    "Knowing the model, year and manufacturer correctly, in the future, is important(my opinion), making incoerent if just fill, so:"
   ]
  },
  {
   "cell_type": "code",
   "execution_count": 23,
   "id": "96381774",
   "metadata": {},
   "outputs": [],
   "source": [
    "df.dropna(subset=['year', 'model', 'manufacturer'], inplace=True)"
   ]
  },
  {
   "cell_type": "markdown",
   "id": "8e9e06e8",
   "metadata": {},
   "source": [
    "Fuel, type of transmission, drive and cylinders may also be inputed by mode as it can be the same for multiple cars (knowledge from outside the dataset)"
   ]
  },
  {
   "cell_type": "code",
   "execution_count": 24,
   "id": "5216e0c7",
   "metadata": {},
   "outputs": [],
   "source": [
    "df['cylinders'].fillna(df['cylinders'].mode(), inplace = True)\n",
    "#Again for the rest that fillna haven't reached\n",
    "df['cylinders'].fillna('4', inplace = True)\n",
    "\n",
    "df['fuel'].fillna(df['fuel'].mode(), inplace = True)\n",
    "#Again for the rest that fillna haven't reached\n",
    "df['fuel'].fillna('gas', inplace = True)\n",
    "\n",
    "df['drive'].fillna(df['drive'].mode(), inplace = True)\n",
    "#Again for the rest that fillna haven't reached\n",
    "df['drive'].fillna('4wd', inplace = True)\n",
    "\n",
    "df['transmission'].fillna(df['transmission'].mode(), inplace = True)\n",
    "#Again for the rest that fillna haven't reached\n",
    "df['transmission'].fillna('manual', inplace = True)\n"
   ]
  },
  {
   "cell_type": "markdown",
   "id": "1a655afd",
   "metadata": {},
   "source": [
    "The best for odometer as a value for regression, recommended and explainable, is to use the mean in fillna. So:"
   ]
  },
  {
   "cell_type": "code",
   "execution_count": 25,
   "id": "3b5eab09",
   "metadata": {},
   "outputs": [],
   "source": [
    "df['odometer'].fillna(df['odometer'].mean(), inplace = True)"
   ]
  },
  {
   "cell_type": "markdown",
   "id": "15f4b2a6",
   "metadata": {},
   "source": [
    "Finally for title status"
   ]
  },
  {
   "cell_type": "code",
   "execution_count": 26,
   "id": "ec4b2334",
   "metadata": {},
   "outputs": [],
   "source": [
    "df['title_status'].fillna(df['title_status'].mode(), inplace = True)\n",
    "df['title_status'].fillna('clean', inplace = True)"
   ]
  },
  {
   "cell_type": "code",
   "execution_count": 27,
   "id": "5216da65",
   "metadata": {},
   "outputs": [
    {
     "name": "stdout",
     "output_type": "stream",
     "text": [
      "region          0\n",
      "year            0\n",
      "manufacturer    0\n",
      "model           0\n",
      "condition       0\n",
      "cylinders       0\n",
      "fuel            0\n",
      "odometer        0\n",
      "title_status    0\n",
      "transmission    0\n",
      "drive           0\n",
      "size            0\n",
      "type            0\n",
      "state           0\n",
      "dtype: int64\n"
     ]
    }
   ],
   "source": [
    "print(df.isnull().sum())"
   ]
  },
  {
   "cell_type": "code",
   "execution_count": 28,
   "id": "143778b9",
   "metadata": {},
   "outputs": [
    {
     "data": {
      "text/html": [
       "<div>\n",
       "<style scoped>\n",
       "    .dataframe tbody tr th:only-of-type {\n",
       "        vertical-align: middle;\n",
       "    }\n",
       "\n",
       "    .dataframe tbody tr th {\n",
       "        vertical-align: top;\n",
       "    }\n",
       "\n",
       "    .dataframe thead th {\n",
       "        text-align: right;\n",
       "    }\n",
       "</style>\n",
       "<table border=\"1\" class=\"dataframe\">\n",
       "  <thead>\n",
       "    <tr style=\"text-align: right;\">\n",
       "      <th></th>\n",
       "      <th>region</th>\n",
       "      <th>year</th>\n",
       "      <th>manufacturer</th>\n",
       "      <th>model</th>\n",
       "      <th>condition</th>\n",
       "      <th>cylinders</th>\n",
       "      <th>fuel</th>\n",
       "      <th>odometer</th>\n",
       "      <th>title_status</th>\n",
       "      <th>transmission</th>\n",
       "      <th>drive</th>\n",
       "      <th>size</th>\n",
       "      <th>type</th>\n",
       "      <th>state</th>\n",
       "    </tr>\n",
       "  </thead>\n",
       "  <tbody>\n",
       "    <tr>\n",
       "      <th>27</th>\n",
       "      <td>auburn</td>\n",
       "      <td>2014.0</td>\n",
       "      <td>gmc</td>\n",
       "      <td>sierra 1500 crew cab slt</td>\n",
       "      <td>good</td>\n",
       "      <td>8.0</td>\n",
       "      <td>gas</td>\n",
       "      <td>57923.0</td>\n",
       "      <td>clean</td>\n",
       "      <td>other</td>\n",
       "      <td>4wd</td>\n",
       "      <td>full-size</td>\n",
       "      <td>pickup</td>\n",
       "      <td>al</td>\n",
       "    </tr>\n",
       "    <tr>\n",
       "      <th>28</th>\n",
       "      <td>auburn</td>\n",
       "      <td>2010.0</td>\n",
       "      <td>chevrolet</td>\n",
       "      <td>silverado 1500</td>\n",
       "      <td>good</td>\n",
       "      <td>8.0</td>\n",
       "      <td>gas</td>\n",
       "      <td>71229.0</td>\n",
       "      <td>clean</td>\n",
       "      <td>other</td>\n",
       "      <td>4wd</td>\n",
       "      <td>full-size</td>\n",
       "      <td>pickup</td>\n",
       "      <td>al</td>\n",
       "    </tr>\n",
       "    <tr>\n",
       "      <th>29</th>\n",
       "      <td>auburn</td>\n",
       "      <td>2020.0</td>\n",
       "      <td>chevrolet</td>\n",
       "      <td>silverado 1500 crew</td>\n",
       "      <td>good</td>\n",
       "      <td>8.0</td>\n",
       "      <td>gas</td>\n",
       "      <td>19160.0</td>\n",
       "      <td>clean</td>\n",
       "      <td>other</td>\n",
       "      <td>4wd</td>\n",
       "      <td>full-size</td>\n",
       "      <td>pickup</td>\n",
       "      <td>al</td>\n",
       "    </tr>\n",
       "    <tr>\n",
       "      <th>30</th>\n",
       "      <td>auburn</td>\n",
       "      <td>2017.0</td>\n",
       "      <td>toyota</td>\n",
       "      <td>tundra double cab sr</td>\n",
       "      <td>good</td>\n",
       "      <td>8.0</td>\n",
       "      <td>gas</td>\n",
       "      <td>41124.0</td>\n",
       "      <td>clean</td>\n",
       "      <td>other</td>\n",
       "      <td>4wd</td>\n",
       "      <td>full-size</td>\n",
       "      <td>pickup</td>\n",
       "      <td>al</td>\n",
       "    </tr>\n",
       "    <tr>\n",
       "      <th>31</th>\n",
       "      <td>auburn</td>\n",
       "      <td>2013.0</td>\n",
       "      <td>ford</td>\n",
       "      <td>f-150 xlt</td>\n",
       "      <td>excellent</td>\n",
       "      <td>6.0</td>\n",
       "      <td>gas</td>\n",
       "      <td>128000.0</td>\n",
       "      <td>clean</td>\n",
       "      <td>automatic</td>\n",
       "      <td>rwd</td>\n",
       "      <td>full-size</td>\n",
       "      <td>truck</td>\n",
       "      <td>al</td>\n",
       "    </tr>\n",
       "  </tbody>\n",
       "</table>\n",
       "</div>"
      ],
      "text/plain": [
       "    region    year manufacturer                     model  condition  \\\n",
       "27  auburn  2014.0          gmc  sierra 1500 crew cab slt       good   \n",
       "28  auburn  2010.0    chevrolet            silverado 1500       good   \n",
       "29  auburn  2020.0    chevrolet       silverado 1500 crew       good   \n",
       "30  auburn  2017.0       toyota      tundra double cab sr       good   \n",
       "31  auburn  2013.0         ford                 f-150 xlt  excellent   \n",
       "\n",
       "   cylinders fuel  odometer title_status transmission drive       size  \\\n",
       "27       8.0  gas   57923.0        clean        other   4wd  full-size   \n",
       "28       8.0  gas   71229.0        clean        other   4wd  full-size   \n",
       "29       8.0  gas   19160.0        clean        other   4wd  full-size   \n",
       "30       8.0  gas   41124.0        clean        other   4wd  full-size   \n",
       "31       6.0  gas  128000.0        clean    automatic   rwd  full-size   \n",
       "\n",
       "      type state  \n",
       "27  pickup    al  \n",
       "28  pickup    al  \n",
       "29  pickup    al  \n",
       "30  pickup    al  \n",
       "31   truck    al  "
      ]
     },
     "execution_count": 28,
     "metadata": {},
     "output_type": "execute_result"
    }
   ],
   "source": [
    "df.head()"
   ]
  },
  {
   "cell_type": "markdown",
   "id": "a9c4d155",
   "metadata": {},
   "source": [
    "### 2.2.4 Outliers"
   ]
  },
  {
   "cell_type": "code",
   "execution_count": 29,
   "id": "d79600bc",
   "metadata": {},
   "outputs": [
    {
     "name": "stdout",
     "output_type": "stream",
     "text": [
      "['region', 'year', 'manufacturer', 'model', 'condition', 'cylinders', 'fuel', 'odometer', 'title_status', 'transmission', 'drive', 'size', 'type', 'state']\n"
     ]
    }
   ],
   "source": [
    "columns = list(df.columns)\n",
    "print(columns)"
   ]
  },
  {
   "cell_type": "markdown",
   "id": "7d129a4b",
   "metadata": {},
   "source": [
    "Filtering, by observation (author view), columns that doesn't make sense making a outlier check, the new list:"
   ]
  },
  {
   "cell_type": "code",
   "execution_count": 30,
   "id": "15223b8f",
   "metadata": {},
   "outputs": [],
   "source": [
    "unwanted_hist = ['iso_code', 'continent', 'location', 'date', 'year']\n",
    "hist_list = [colstr for colstr in columns if colstr not in unwanted_hist]\n",
    "df_hist = df[hist_list].copy()"
   ]
  },
  {
   "cell_type": "code",
   "execution_count": 31,
   "id": "957eae3d",
   "metadata": {},
   "outputs": [
    {
     "data": {
      "text/html": [
       "<div>\n",
       "<style scoped>\n",
       "    .dataframe tbody tr th:only-of-type {\n",
       "        vertical-align: middle;\n",
       "    }\n",
       "\n",
       "    .dataframe tbody tr th {\n",
       "        vertical-align: top;\n",
       "    }\n",
       "\n",
       "    .dataframe thead th {\n",
       "        text-align: right;\n",
       "    }\n",
       "</style>\n",
       "<table border=\"1\" class=\"dataframe\">\n",
       "  <thead>\n",
       "    <tr style=\"text-align: right;\">\n",
       "      <th></th>\n",
       "      <th>region</th>\n",
       "      <th>manufacturer</th>\n",
       "      <th>model</th>\n",
       "      <th>condition</th>\n",
       "      <th>cylinders</th>\n",
       "      <th>fuel</th>\n",
       "      <th>odometer</th>\n",
       "      <th>title_status</th>\n",
       "      <th>transmission</th>\n",
       "      <th>drive</th>\n",
       "      <th>size</th>\n",
       "      <th>type</th>\n",
       "      <th>state</th>\n",
       "    </tr>\n",
       "  </thead>\n",
       "  <tbody>\n",
       "    <tr>\n",
       "      <th>27</th>\n",
       "      <td>auburn</td>\n",
       "      <td>gmc</td>\n",
       "      <td>sierra 1500 crew cab slt</td>\n",
       "      <td>good</td>\n",
       "      <td>8.0</td>\n",
       "      <td>gas</td>\n",
       "      <td>57923.0</td>\n",
       "      <td>clean</td>\n",
       "      <td>other</td>\n",
       "      <td>4wd</td>\n",
       "      <td>full-size</td>\n",
       "      <td>pickup</td>\n",
       "      <td>al</td>\n",
       "    </tr>\n",
       "    <tr>\n",
       "      <th>28</th>\n",
       "      <td>auburn</td>\n",
       "      <td>chevrolet</td>\n",
       "      <td>silverado 1500</td>\n",
       "      <td>good</td>\n",
       "      <td>8.0</td>\n",
       "      <td>gas</td>\n",
       "      <td>71229.0</td>\n",
       "      <td>clean</td>\n",
       "      <td>other</td>\n",
       "      <td>4wd</td>\n",
       "      <td>full-size</td>\n",
       "      <td>pickup</td>\n",
       "      <td>al</td>\n",
       "    </tr>\n",
       "    <tr>\n",
       "      <th>29</th>\n",
       "      <td>auburn</td>\n",
       "      <td>chevrolet</td>\n",
       "      <td>silverado 1500 crew</td>\n",
       "      <td>good</td>\n",
       "      <td>8.0</td>\n",
       "      <td>gas</td>\n",
       "      <td>19160.0</td>\n",
       "      <td>clean</td>\n",
       "      <td>other</td>\n",
       "      <td>4wd</td>\n",
       "      <td>full-size</td>\n",
       "      <td>pickup</td>\n",
       "      <td>al</td>\n",
       "    </tr>\n",
       "    <tr>\n",
       "      <th>30</th>\n",
       "      <td>auburn</td>\n",
       "      <td>toyota</td>\n",
       "      <td>tundra double cab sr</td>\n",
       "      <td>good</td>\n",
       "      <td>8.0</td>\n",
       "      <td>gas</td>\n",
       "      <td>41124.0</td>\n",
       "      <td>clean</td>\n",
       "      <td>other</td>\n",
       "      <td>4wd</td>\n",
       "      <td>full-size</td>\n",
       "      <td>pickup</td>\n",
       "      <td>al</td>\n",
       "    </tr>\n",
       "    <tr>\n",
       "      <th>31</th>\n",
       "      <td>auburn</td>\n",
       "      <td>ford</td>\n",
       "      <td>f-150 xlt</td>\n",
       "      <td>excellent</td>\n",
       "      <td>6.0</td>\n",
       "      <td>gas</td>\n",
       "      <td>128000.0</td>\n",
       "      <td>clean</td>\n",
       "      <td>automatic</td>\n",
       "      <td>rwd</td>\n",
       "      <td>full-size</td>\n",
       "      <td>truck</td>\n",
       "      <td>al</td>\n",
       "    </tr>\n",
       "  </tbody>\n",
       "</table>\n",
       "</div>"
      ],
      "text/plain": [
       "    region manufacturer                     model  condition cylinders fuel  \\\n",
       "27  auburn          gmc  sierra 1500 crew cab slt       good       8.0  gas   \n",
       "28  auburn    chevrolet            silverado 1500       good       8.0  gas   \n",
       "29  auburn    chevrolet       silverado 1500 crew       good       8.0  gas   \n",
       "30  auburn       toyota      tundra double cab sr       good       8.0  gas   \n",
       "31  auburn         ford                 f-150 xlt  excellent       6.0  gas   \n",
       "\n",
       "    odometer title_status transmission drive       size    type state  \n",
       "27   57923.0        clean        other   4wd  full-size  pickup    al  \n",
       "28   71229.0        clean        other   4wd  full-size  pickup    al  \n",
       "29   19160.0        clean        other   4wd  full-size  pickup    al  \n",
       "30   41124.0        clean        other   4wd  full-size  pickup    al  \n",
       "31  128000.0        clean    automatic   rwd  full-size   truck    al  "
      ]
     },
     "execution_count": 31,
     "metadata": {},
     "output_type": "execute_result"
    }
   ],
   "source": [
    "df_hist.head()"
   ]
  },
  {
   "cell_type": "code",
   "execution_count": 32,
   "id": "eea3be9d",
   "metadata": {},
   "outputs": [
    {
     "data": {
      "text/plain": [
       "array([[<AxesSubplot:title={'center':'odometer'}>]], dtype=object)"
      ]
     },
     "execution_count": 32,
     "metadata": {},
     "output_type": "execute_result"
    },
    {
     "data": {
      "image/png": "[encoded data removed]",
      "text/plain": [
       "<Figure size 432x288 with 1 Axes>"
      ]
     },
     "metadata": {
      "needs_background": "light"
     },
     "output_type": "display_data"
    }
   ],
   "source": [
    "df_hist.hist(bins=50)"
   ]
  },
  {
   "cell_type": "markdown",
   "id": "3ea710df",
   "metadata": {},
   "source": [
    "No worries."
   ]
  },
  {
   "cell_type": "code",
   "execution_count": 33,
   "id": "23aa0fac",
   "metadata": {},
   "outputs": [],
   "source": [
    "endetl = time.time()-startetl"
   ]
  },
  {
   "cell_type": "code",
   "execution_count": 34,
   "id": "dddab098",
   "metadata": {},
   "outputs": [
    {
     "name": "stdout",
     "output_type": "stream",
     "text": [
      "The ETL process took 2.4918878078460693 secconds\n"
     ]
    }
   ],
   "source": [
    "print(f'The ETL process took {endetl} secconds')"
   ]
  },
  {
   "cell_type": "markdown",
   "id": "d083e1f4",
   "metadata": {},
   "source": [
    "# 3. Model choice and Hyperparameters tuning"
   ]
  },
  {
   "cell_type": "markdown",
   "id": "2084073d",
   "metadata": {},
   "source": [
    "As condition determined as the target, we take a look at what do we have in order to decide the model"
   ]
  },
  {
   "cell_type": "code",
   "execution_count": 35,
   "id": "6ed32f85",
   "metadata": {},
   "outputs": [
    {
     "data": {
      "text/plain": [
       "good         115347\n",
       "excellent     96781\n",
       "like new      19970\n",
       "fair           5918\n",
       "new            1130\n",
       "salvage         532\n",
       "Name: condition, dtype: int64"
      ]
     },
     "execution_count": 35,
     "metadata": {},
     "output_type": "execute_result"
    }
   ],
   "source": [
    "df['condition'].value_counts()"
   ]
  },
  {
   "cell_type": "markdown",
   "id": "1b994b28",
   "metadata": {},
   "source": [
    "It's a classification problem, and some of classification models (no boosting) are DecisionTreeClassifier, Knn and RandomForest. The chosen one was Knn for it not being so performatic, and thus, will be better to test the hardware as proposed in the first line of this notebook. So"
   ]
  },
  {
   "cell_type": "code",
   "execution_count": 36,
   "id": "e530b2f8",
   "metadata": {},
   "outputs": [],
   "source": [
    "cls = KNeighborsClassifier()"
   ]
  },
  {
   "cell_type": "code",
   "execution_count": 37,
   "id": "bddab78c",
   "metadata": {},
   "outputs": [
    {
     "data": {
      "text/plain": [
       "{'algorithm': 'auto',\n",
       " 'leaf_size': 30,\n",
       " 'metric': 'minkowski',\n",
       " 'metric_params': None,\n",
       " 'n_jobs': None,\n",
       " 'n_neighbors': 5,\n",
       " 'p': 2,\n",
       " 'weights': 'uniform'}"
      ]
     },
     "execution_count": 37,
     "metadata": {},
     "output_type": "execute_result"
    }
   ],
   "source": [
    "cls.get_params()"
   ]
  },
  {
   "cell_type": "markdown",
   "id": "08ee0538",
   "metadata": {},
   "source": [
    "## 3.1 'n_neighbors' tuning using GridSearch"
   ]
  },
  {
   "cell_type": "code",
   "execution_count": 38,
   "id": "62e19953",
   "metadata": {},
   "outputs": [],
   "source": [
    "starttuning = time.time()"
   ]
  },
  {
   "cell_type": "code",
   "execution_count": 39,
   "id": "f93952f1",
   "metadata": {},
   "outputs": [
    {
     "ename": "SyntaxError",
     "evalue": "invalid syntax (Temp/ipykernel_788/2323476339.py, line 10)",
     "output_type": "error",
     "traceback": [
      "\u001b[1;36m  File \u001b[1;32m\"C:\\Users\\LETICI~1.VAL\\AppData\\Local\\Temp/ipykernel_788/2323476339.py\"\u001b[1;36m, line \u001b[1;32m10\u001b[0m\n\u001b[1;33m    grs = GridSearchCV((estimator=cls,\u001b[0m\n\u001b[1;37m                                 ^\u001b[0m\n\u001b[1;31mSyntaxError\u001b[0m\u001b[1;31m:\u001b[0m invalid syntax\n"
     ]
    }
   ],
   "source": [
    "X = np.array(df.drop(['condition'], axis=1))\n",
    "y = np.array(df['condition'])\n",
    "\n",
    "X_train, X_test, y_train, y_test = train_test_split(X, y, test_size =0.33)\n",
    "\n",
    "grid_param = {\n",
    "    'n_neighbors': [3, 4, 5, 6, 7, 8, 9, 10],\n",
    "}\n",
    "\n",
    "grs = GridSearchCV(estimator=cls,\n",
    "                     param_grid=grid_param,\n",
    "                     scoring='f1_weighted',\n",
    "                     cv=5,\n",
    "                     n_jobs=-1, cv=5, return_train_score=True, verbose=2)\n",
    "\n",
    "with ProgressBar():\n",
    "    grs.fit(X_train, y_train)\n",
    "\n",
    "gridresults = pd.DataFrame(grs.cv_results_)"
   ]
  },
  {
   "cell_type": "code",
   "execution_count": null,
   "id": "864b5ee8",
   "metadata": {},
   "outputs": [],
   "source": [
    "endtuning = time.time()-starttuning"
   ]
  },
  {
   "cell_type": "code",
   "execution_count": null,
   "id": "d42d851f",
   "metadata": {},
   "outputs": [],
   "source": [
    "gridresults"
   ]
  },
  {
   "cell_type": "code",
   "execution_count": null,
   "id": "3e0bcffc",
   "metadata": {},
   "outputs": [],
   "source": [
    "print(f'The Tuning process took {endtuning} secconds')"
   ]
  },
  {
   "cell_type": "markdown",
   "id": "9d3d17ee",
   "metadata": {},
   "source": [
    "# Training + Complete Scoring"
   ]
  },
  {
   "cell_type": "code",
   "execution_count": null,
   "id": "55208391",
   "metadata": {},
   "outputs": [],
   "source": [
    "def eval_metrics_classification(actual, pred):\n",
    "    acy = accuracy_score(actual, pred)\n",
    "    pcs = precision_score(actual, pred, average='macro')\n",
    "    rcll = recall_score(actual, pred, average='macro')\n",
    "    f1 = f1_score(actual, pred, average='macro')\n",
    "    mcc = matthews_corrcoef(actual, pred)\n",
    "    return acy, pcs, rcll, f1, mcc"
   ]
  },
  {
   "cell_type": "code",
   "execution_count": null,
   "id": "5e88f2ce",
   "metadata": {},
   "outputs": [],
   "source": [
    "print(f'The process of the csv reading with {df.shape[0]} lines and {df.shape[1]} columns took {endcsvread} secconds')\n",
    "print(f'The ETL process took {endetl} secconds')\n",
    "print(f'The Tuning process took {endtuning} secconds')"
   ]
  }
 ],
 "metadata": {
  "kernelspec": {
   "display_name": "Python 3 (ipykernel)",
   "language": "python",
   "name": "python3"
  },
  "language_info": {
   "codemirror_mode": {
    "name": "ipython",
    "version": 3
   },
   "file_extension": ".py",
   "mimetype": "text/x-python",
   "name": "python",
   "nbconvert_exporter": "python",
   "pygments_lexer": "ipython3",
   "version": "3.9.7"
  }
 },
 "nbformat": 4,
 "nbformat_minor": 5
}
